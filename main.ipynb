{
 "cells": [
  {
   "cell_type": "code",
   "execution_count": 1,
   "metadata": {
    "collapsed": true,
    "pycharm": {
     "name": "#%%\n"
    }
   },
   "outputs": [],
   "source": [
    "import pandas as pd\n",
    "import numpy as np"
   ]
  },
  {
   "cell_type": "code",
   "execution_count": 5,
   "outputs": [
    {
     "data": {
      "text/plain": "       employee_id  day month  year     time\n0                1    1  Mart  2022  8:19:17\n1                1    2  Mart  2022  9:11:29\n2                1    3  Mart  2022  9:24:04\n3                1    4  Mart  2022  8:12:21\n4                1    5  Mart  2022  8:45:46\n...            ...  ...   ...   ...      ...\n44995          500   26   May  2022  8:12:03\n44996          500   27   May  2022  8:52:46\n44997          500   28   May  2022  8:32:55\n44998          500   29   May  2022  9:24:02\n44999          500   30   May  2022  9:21:01\n\n[45000 rows x 5 columns]",
      "text/html": "<div>\n<style scoped>\n    .dataframe tbody tr th:only-of-type {\n        vertical-align: middle;\n    }\n\n    .dataframe tbody tr th {\n        vertical-align: top;\n    }\n\n    .dataframe thead th {\n        text-align: right;\n    }\n</style>\n<table border=\"1\" class=\"dataframe\">\n  <thead>\n    <tr style=\"text-align: right;\">\n      <th></th>\n      <th>employee_id</th>\n      <th>day</th>\n      <th>month</th>\n      <th>year</th>\n      <th>time</th>\n    </tr>\n  </thead>\n  <tbody>\n    <tr>\n      <th>0</th>\n      <td>1</td>\n      <td>1</td>\n      <td>Mart</td>\n      <td>2022</td>\n      <td>8:19:17</td>\n    </tr>\n    <tr>\n      <th>1</th>\n      <td>1</td>\n      <td>2</td>\n      <td>Mart</td>\n      <td>2022</td>\n      <td>9:11:29</td>\n    </tr>\n    <tr>\n      <th>2</th>\n      <td>1</td>\n      <td>3</td>\n      <td>Mart</td>\n      <td>2022</td>\n      <td>9:24:04</td>\n    </tr>\n    <tr>\n      <th>3</th>\n      <td>1</td>\n      <td>4</td>\n      <td>Mart</td>\n      <td>2022</td>\n      <td>8:12:21</td>\n    </tr>\n    <tr>\n      <th>4</th>\n      <td>1</td>\n      <td>5</td>\n      <td>Mart</td>\n      <td>2022</td>\n      <td>8:45:46</td>\n    </tr>\n    <tr>\n      <th>...</th>\n      <td>...</td>\n      <td>...</td>\n      <td>...</td>\n      <td>...</td>\n      <td>...</td>\n    </tr>\n    <tr>\n      <th>44995</th>\n      <td>500</td>\n      <td>26</td>\n      <td>May</td>\n      <td>2022</td>\n      <td>8:12:03</td>\n    </tr>\n    <tr>\n      <th>44996</th>\n      <td>500</td>\n      <td>27</td>\n      <td>May</td>\n      <td>2022</td>\n      <td>8:52:46</td>\n    </tr>\n    <tr>\n      <th>44997</th>\n      <td>500</td>\n      <td>28</td>\n      <td>May</td>\n      <td>2022</td>\n      <td>8:32:55</td>\n    </tr>\n    <tr>\n      <th>44998</th>\n      <td>500</td>\n      <td>29</td>\n      <td>May</td>\n      <td>2022</td>\n      <td>9:24:02</td>\n    </tr>\n    <tr>\n      <th>44999</th>\n      <td>500</td>\n      <td>30</td>\n      <td>May</td>\n      <td>2022</td>\n      <td>9:21:01</td>\n    </tr>\n  </tbody>\n</table>\n<p>45000 rows × 5 columns</p>\n</div>"
     },
     "execution_count": 5,
     "metadata": {},
     "output_type": "execute_result"
    }
   ],
   "source": [
    "data = pd.read_csv(\"CLEAN_DATA.csv\")\n",
    "df = pd.DataFrame(data)\n",
    "df"
   ],
   "metadata": {
    "collapsed": false,
    "pycharm": {
     "name": "#%%\n"
    }
   }
  },
  {
   "cell_type": "code",
   "execution_count": 8,
   "outputs": [
    {
     "data": {
      "text/plain": "0          1\n1          1\n2          1\n3          1\n4          1\n        ... \n44995    500\n44996    500\n44997    500\n44998    500\n44999    500\nName: employee_id, Length: 45000, dtype: int64"
     },
     "execution_count": 8,
     "metadata": {},
     "output_type": "execute_result"
    }
   ],
   "source": [
    "employee_id = df['employee_id']\n",
    "employee_id"
   ],
   "metadata": {
    "collapsed": false,
    "pycharm": {
     "name": "#%%\n"
    }
   }
  },
  {
   "cell_type": "code",
   "execution_count": 25,
   "outputs": [
    {
     "data": {
      "text/plain": "0         1\n1         2\n2         3\n3         4\n4         5\n         ..\n44995    26\n44996    27\n44997    28\n44998    29\n44999    30\nName:  day, Length: 45000, dtype: int64"
     },
     "execution_count": 25,
     "metadata": {},
     "output_type": "execute_result"
    }
   ],
   "source": [
    "days = df[' day']\n",
    "days"
   ],
   "metadata": {
    "collapsed": false,
    "pycharm": {
     "name": "#%%\n"
    }
   }
  },
  {
   "cell_type": "code",
   "execution_count": null,
   "outputs": [],
   "source": [],
   "metadata": {
    "collapsed": false,
    "pycharm": {
     "name": "#%%\n"
    }
   }
  }
 ],
 "metadata": {
  "kernelspec": {
   "display_name": "Python 3",
   "language": "python",
   "name": "python3"
  },
  "language_info": {
   "codemirror_mode": {
    "name": "ipython",
    "version": 2
   },
   "file_extension": ".py",
   "mimetype": "text/x-python",
   "name": "python",
   "nbconvert_exporter": "python",
   "pygments_lexer": "ipython2",
   "version": "2.7.6"
  }
 },
 "nbformat": 4,
 "nbformat_minor": 0
}